{
 "cells": [
  {
   "cell_type": "code",
   "execution_count": 1,
   "id": "a1c60ebf",
   "metadata": {
    "executionInfo": {
     "elapsed": 882,
     "status": "ok",
     "timestamp": 1644065076769,
     "user": {
      "displayName": "Mihailo Škorić",
      "photoUrl": "https://lh3.googleusercontent.com/a-/AOh14GhuYHAyKAKPWECcD7eby8jbvwHfTFMf1vuQvNSu=s64",
      "userId": "14116861759516003971"
     },
     "user_tz": -60
    },
    "id": "a1c60ebf"
   },
   "outputs": [],
   "source": [
    "\"\"\"\n",
    "Usage examples for embeddings trained on Serbo-Croatian Wikipedia\n",
    "\n",
    "For more information please refer to:\n",
    "-Word2Vec tutorial https://radimrehurek.com/gensim/models/word2vec.html\n",
    "-FastText https://radimrehurek.com/gensim/models/fasttext.html\n",
    "-Doc2Vec https://radimrehurek.com/gensim/models/doc2vec.html\n",
    "\"\"\"\n",
    "\n",
    "from gensim.models import Word2Vec\n",
    "from gensim.models import FastText\n",
    "from gensim.models.doc2vec import Doc2Vec"
   ]
  },
  {
   "cell_type": "code",
   "execution_count": 1,
   "id": "ac80a34f",
   "metadata": {
    "colab": {
     "base_uri": "https://localhost:8080/",
     "height": 363
    },
    "executionInfo": {
     "elapsed": 1152,
     "status": "error",
     "timestamp": 1644065082738,
     "user": {
      "displayName": "Mihailo Škorić",
      "photoUrl": "https://lh3.googleusercontent.com/a-/AOh14GhuYHAyKAKPWECcD7eby8jbvwHfTFMf1vuQvNSu=s64",
      "userId": "14116861759516003971"
     },
     "user_tz": -60
    },
    "id": "ac80a34f",
    "outputId": "72fe4a43-ade4-49a5-a3c3-5940a7fa252e"
   },
   "outputs": [],
   "source": [
    "\"\"\"Download models from http://llod.jerteh.rs/putnich/\"\"\"\n",
    "\n",
    "\"\"\"Load models\"\"\"\n",
    "word2vec = Word2Vec.load('embeddings/word2vec/word2vec-sh-wiki.bin')\n",
    "fasttext = FastText.load('embeddings/fasttext/fasttext-sh-wiki.bin')\n",
    "doc2vec = Doc2Vec.load('embeddings/doc2vec/doc2vec-sh-wiki.bin')"
   ]
  },
  {
   "cell_type": "code",
   "execution_count": null,
   "id": "0f1df262",
   "metadata": {
    "id": "0f1df262",
    "outputId": "da31a865-233c-4c00-e814-a0b6d6a555bd"
   },
   "outputs": [
    {
     "name": "stdout",
     "output_type": "stream",
     "text": [
      "[-2.4175782  -3.8338094  -2.483057    0.38566908  0.83836174 -0.562291\n",
      " -1.4730322  -1.1030451  -0.36971334 -0.20898299 -1.9952496  -1.0570163\n",
      " -1.892794    0.1037849  -0.47431648  2.8931887  -0.4214371   0.25094286\n",
      " -0.9301952  -2.5353098  -2.5891504   1.7014676   2.1399944   1.3902944\n",
      "  3.1831017  -1.7514678   0.5296549  -0.87773275 -2.952725    0.3071484\n",
      "  3.386068    1.1704432  -0.7444692   0.60305977  1.4440508  -0.6556727\n",
      "  0.24221562 -1.7195258   0.71801907 -0.1644092   0.14656577  0.7531406\n",
      "  1.3670108  -0.02269833 -1.3307906   0.867045   -1.9414064  -1.851748\n",
      " -0.18317665  1.432486    1.6614187  -4.055946   -3.2940412   2.8124099\n",
      " -1.3876822   0.19905931  1.3830159  -4.538821   -1.3650875  -1.5292196\n",
      "  4.449269    2.2378736  -0.5724806  -2.071407    3.290039    2.6091652\n",
      "  0.81459886 -1.8403133   0.47773957  0.6252073   1.1328638   2.6836839\n",
      " -1.3068022   2.061742    1.112584    1.5156024  -0.15288864  1.5629045\n",
      " -1.1689259   2.2272818   0.8024054   0.3959393   1.8815391   1.6072644\n",
      " -2.6723657  -1.0017697  -2.6470287  -0.728507    0.05332584 -0.60772246\n",
      " -0.09067872 -2.2523854   1.1051892  -0.8011711  -0.02801267  0.8911207\n",
      " -1.8958217  -1.4612676  -1.608504   -2.336143  ]\n"
     ]
    }
   ],
   "source": [
    "\"\"\"Get word embedding\"\"\"\n",
    "print(word2vec.wv['misliti'])"
   ]
  },
  {
   "cell_type": "code",
   "execution_count": null,
   "id": "4e5fb067",
   "metadata": {
    "id": "4e5fb067",
    "outputId": "19c8a24f-e479-4144-c6d2-88d648b0d9fb"
   },
   "outputs": [
    {
     "name": "stdout",
     "output_type": "stream",
     "text": [
      "[('pomisliti', 0.8272355198860168), ('reći', 0.7675224542617798), ('sumnjati', 0.7673249244689941), ('kazati', 0.7565544843673706), ('vjerovati', 0.7456005811691284), ('tvrditi', 0.7440354228019714), ('znati', 0.74385666847229), ('veruje', 0.7371051907539368), ('ispostavljati', 0.7142175436019897), ('veruju', 0.7112040519714355)]\n"
     ]
    }
   ],
   "source": [
    "\"\"\"Get nearest words\"\"\"\n",
    "print(word2vec.wv.most_similar(positive='misliti', topn=10))"
   ]
  },
  {
   "cell_type": "code",
   "execution_count": null,
   "id": "ecf0494c",
   "metadata": {
    "id": "ecf0494c"
   },
   "outputs": [],
   "source": [
    "oblacno = 'Danas je oblačno'\n",
    "oblacno_reversed = 'Oblačno je danas'\n",
    "suncano = 'Sutra je sunčano'\n",
    "guzva = 'Gužva u saobraćaju'"
   ]
  },
  {
   "cell_type": "code",
   "execution_count": null,
   "id": "0a3cc6fb",
   "metadata": {
    "id": "0a3cc6fb",
    "outputId": "02734f3c-84f1-4d1f-e46e-904001ee8c09"
   },
   "outputs": [
    {
     "data": {
      "text/plain": [
       "array([-1.8494327 , -0.1647695 ,  1.5611722 ,  0.1954371 , -0.8534858 ,\n",
       "       -0.17160808, -0.63202274, -0.26581982, -0.20364723,  0.5406822 ,\n",
       "        0.720155  , -0.2768724 , -1.0120019 , -0.39838263, -0.625616  ,\n",
       "        0.94517326,  0.38049704,  0.447077  , -0.4925514 , -0.04987473,\n",
       "        0.7011778 , -0.3815585 ,  0.23962598,  0.49945247, -0.05200323,\n",
       "        0.01328462,  0.12581816,  1.0299982 , -0.27596927, -0.30877528,\n",
       "        1.0628593 , -0.20295258, -0.8879725 , -1.0139191 , -0.57103944,\n",
       "        0.82548946,  1.2264459 ,  0.85974294, -0.89849865,  0.7603431 ,\n",
       "        0.30399606,  0.48102623, -0.24103768,  0.53744197,  0.72049963,\n",
       "       -0.6832704 ,  0.44890508,  0.23836358,  0.8988211 ,  0.54030377,\n",
       "        0.21661802,  1.1675948 ,  0.05190293, -0.135646  , -0.43071792,\n",
       "        0.26412237,  0.4683544 ,  0.44881862, -0.05927201, -0.02765048,\n",
       "        0.67922723, -0.16002311, -0.45176962,  1.5057105 ,  0.4425515 ,\n",
       "        0.7490429 ,  0.18526925,  1.0694392 , -0.18955971, -0.28430387,\n",
       "       -0.56615704, -1.5613782 , -0.6875341 ,  1.0517691 ,  0.9318472 ,\n",
       "        0.7804304 ,  0.36575598, -0.78245664,  1.2507432 , -0.2257103 ,\n",
       "        0.5666618 ,  0.7077563 ,  0.73130643, -0.05619233,  0.67069715,\n",
       "       -0.8022236 , -0.64724755, -1.2394371 ,  0.17437096,  0.20352939,\n",
       "        0.09787456, -0.3120639 ,  0.34785768,  0.6373296 ,  0.20905563,\n",
       "        0.09395027, -1.0558994 , -0.0770514 , -0.12213595,  0.9279376 ],\n",
       "      dtype=float32)"
      ]
     },
     "execution_count": 6,
     "metadata": {},
     "output_type": "execute_result"
    }
   ],
   "source": [
    "fasttext.wv[oblacno]"
   ]
  },
  {
   "cell_type": "code",
   "execution_count": null,
   "id": "a3e243bf",
   "metadata": {
    "id": "a3e243bf",
    "outputId": "9c80c446-994d-466d-e8ea-30a8a654d212"
   },
   "outputs": [
    {
     "name": "stdout",
     "output_type": "stream",
     "text": [
      "[1.0000001]\n"
     ]
    }
   ],
   "source": [
    "\"\"\"Similarity between texts\"\"\"\n",
    "print(fasttext.wv.cosine_similarities(fasttext.wv[oblacno], fasttext.wv[[oblacno]]))"
   ]
  },
  {
   "cell_type": "code",
   "execution_count": null,
   "id": "152c93c5",
   "metadata": {
    "id": "152c93c5",
    "outputId": "4685187d-9134-42b3-b6fe-8dbcc02a4f41"
   },
   "outputs": [
    {
     "name": "stdout",
     "output_type": "stream",
     "text": [
      "[0.71361804]\n"
     ]
    }
   ],
   "source": [
    "print(fasttext.wv.cosine_similarities(fasttext.wv[oblacno], fasttext.wv[[oblacno_reversed]]))"
   ]
  },
  {
   "cell_type": "code",
   "execution_count": null,
   "id": "d310dd36",
   "metadata": {
    "id": "d310dd36",
    "outputId": "4261fbd7-f832-423b-d178-8ac6bb10c1bf"
   },
   "outputs": [
    {
     "name": "stdout",
     "output_type": "stream",
     "text": [
      "[0.70184004]\n"
     ]
    }
   ],
   "source": [
    "print(fasttext.wv.cosine_similarities(fasttext.wv[oblacno], fasttext.wv[[suncano]]))"
   ]
  },
  {
   "cell_type": "code",
   "execution_count": null,
   "id": "9797953c",
   "metadata": {
    "id": "9797953c",
    "outputId": "d431f797-92d0-45ce-df67-73e19f63d1e0"
   },
   "outputs": [
    {
     "name": "stdout",
     "output_type": "stream",
     "text": [
      "[0.40375346]\n"
     ]
    }
   ],
   "source": [
    "print(fasttext.wv.cosine_similarities(fasttext.wv[oblacno], fasttext.wv[[guzva]]))"
   ]
  },
  {
   "cell_type": "code",
   "execution_count": null,
   "id": "e4769251",
   "metadata": {
    "id": "e4769251",
    "outputId": "739def4e-c89e-4427-e13a-ff2ea93412f6"
   },
   "outputs": [
    {
     "data": {
      "text/plain": [
       "array([-0.04681116, -0.07405312, -0.0528174 ,  0.22408938,  0.03707092,\n",
       "       -0.08288442, -0.08161405,  0.07412355, -0.18808188, -0.03769279,\n",
       "        0.04493877, -0.08661932, -0.0703866 , -0.00962123,  0.01738931,\n",
       "       -0.14432669, -0.00806675, -0.18188167, -0.13788167, -0.03798733,\n",
       "       -0.0745097 , -0.08376487, -0.00754883, -0.06787176, -0.02506606,\n",
       "       -0.07099699,  0.00029009,  0.09699437, -0.04758047, -0.03383537,\n",
       "        0.06705782,  0.01446838, -0.09563633, -0.14767486,  0.037944  ,\n",
       "        0.05095235,  0.03883098, -0.01640064, -0.13655117,  0.01664549,\n",
       "       -0.01745041, -0.01169401, -0.05200403,  0.01554014,  0.05013828,\n",
       "        0.07418264, -0.09321432,  0.07131006,  0.04737925,  0.07560886,\n",
       "       -0.09147214, -0.06166065,  0.06531931,  0.00796848,  0.00552939,\n",
       "        0.04931952, -0.05720408, -0.0076518 ,  0.01819174,  0.06630155,\n",
       "        0.02719215, -0.00638933,  0.0778047 , -0.03322877,  0.02124912,\n",
       "        0.10701287,  0.01200004, -0.07778283,  0.04115468, -0.1546418 ,\n",
       "       -0.10037198, -0.03858334,  0.02874669, -0.02039943,  0.04908707,\n",
       "       -0.00339018,  0.04366076,  0.00902102,  0.06311484, -0.07677682,\n",
       "        0.0312581 ,  0.06884194, -0.00842557, -0.09458637,  0.02380507,\n",
       "       -0.12501661, -0.02092611,  0.0428101 ,  0.00499449,  0.07300141,\n",
       "        0.08958287,  0.19985136,  0.00652535, -0.06908529,  0.00857408,\n",
       "        0.09497918, -0.13480833, -0.07121628,  0.03096592, -0.09813133],\n",
       "      dtype=float32)"
      ]
     },
     "execution_count": 11,
     "metadata": {},
     "output_type": "execute_result"
    }
   ],
   "source": [
    "doc2vec.infer_vector(suncano.split())"
   ]
  },
  {
   "cell_type": "code",
   "execution_count": null,
   "id": "209e5130",
   "metadata": {
    "id": "209e5130",
    "outputId": "e7da8b38-80f5-4959-dbb4-27a6ccb69464"
   },
   "outputs": [
    {
     "data": {
      "text/plain": [
       "[('tvrditi', 0.7902759313583374),\n",
       " ('pomisliti', 0.7797690033912659),\n",
       " ('kazati', 0.7602627873420715),\n",
       " ('reći', 0.7469426393508911),\n",
       " ('veruje', 0.7338119745254517),\n",
       " ('nagađaju', 0.717974841594696),\n",
       " ('sumnjati', 0.7161406874656677),\n",
       " ('znati', 0.7151237726211548),\n",
       " ('pretpostavljati', 0.7151066660881042),\n",
       " ('vjerovati', 0.7147721648216248)]"
      ]
     },
     "execution_count": 12,
     "metadata": {},
     "output_type": "execute_result"
    }
   ],
   "source": [
    "doc2vec.wv.most_similar('misliti')"
   ]
  }
 ],
 "metadata": {
  "colab": {
   "name": "SH-Wiki-Embeddings.ipynb",
   "provenance": []
  },
  "kernelspec": {
   "display_name": "Python 3 (ipykernel)",
   "language": "python",
   "name": "python3"
  },
  "language_info": {
   "codemirror_mode": {
    "name": "ipython",
    "version": 3
   },
   "file_extension": ".py",
   "mimetype": "text/x-python",
   "name": "python",
   "nbconvert_exporter": "python",
   "pygments_lexer": "ipython3",
   "version": "3.7.11"
  }
 },
 "nbformat": 4,
 "nbformat_minor": 5
}
